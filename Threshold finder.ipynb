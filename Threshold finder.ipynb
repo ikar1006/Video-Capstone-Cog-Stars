{
 "cells": [
  {
   "cell_type": "code",
   "execution_count": null,
   "id": "e0ae6452",
   "metadata": {},
   "outputs": [],
   "source": [
    "from facenet_models import FacenetModel\n",
    "model = FacenetModel()"
   ]
  },
  {
   "cell_type": "code",
   "execution_count": null,
   "id": "1c46916a",
   "metadata": {},
   "outputs": [],
   "source": [
    "def real_check(real_data, fake_data):\n",
    "    boxes1, probabilities1, landmarks1 = model.detect(real_data)\n",
    "    boxes2, probabilities2, landmarks2 = model.detect(fake_data)\n",
    "\n",
    "    confidence_counts = {}\n",
    "\n",
    "    for num in range(1, 101, 10):\n",
    "        real_face_count = 0\n",
    "        fake_face_count = 0\n",
    "\n",
    "    for prob in probabilities1:\n",
    "        if prob > num:\n",
    "        real_face_count += 1\n",
    "    for prob in probabilities2:\n",
    "        if prob > num:\n",
    "        fake_face_count += 1\n",
    "\n",
    "    confidence_counts[num] = (real_face_count, fake_face_count)\n",
    "\n",
    "    return confidence_counts"
   ]
  },
  {
   "cell_type": "code",
   "execution_count": null,
   "id": "b6f29c2c",
   "metadata": {},
   "outputs": [],
   "source": [
    "def person_check(know_ppl, rand_ppl):\n",
    "    threshold_dict = {}\n",
    "    #arham's function finds the numbers for my ppls\n",
    "    #assuming i get a dict back w/a name and a number\n",
    "    ss_know = [:, 0]\n",
    "    ss_rand = [:, 0]\n",
    "    \n",
    "    real_face_count = 0\n",
    "    wrong_face_count = 0\n",
    "\n",
    "    for threshold in range(0, 2, 0.25):\n",
    "        for num in ss_know:\n",
    "            if num > threshold:\n",
    "            real_face_count += 1\n",
    "        for num in ss_rand:\n",
    "            if num > threshold:\n",
    "            fake_face_count += 1\n",
    "        threshold_dict[num] = (real_face_count, fake_face_count)\n",
    "    return threshold_dict"
   ]
  }
 ],
 "metadata": {
  "kernelspec": {
   "display_name": "Python 3 (ipykernel)",
   "language": "python",
   "name": "python3"
  },
  "language_info": {
   "codemirror_mode": {
    "name": "ipython",
    "version": 3
   },
   "file_extension": ".py",
   "mimetype": "text/x-python",
   "name": "python",
   "nbconvert_exporter": "python",
   "pygments_lexer": "ipython3",
   "version": "3.8.19"
  }
 },
 "nbformat": 4,
 "nbformat_minor": 5
}
