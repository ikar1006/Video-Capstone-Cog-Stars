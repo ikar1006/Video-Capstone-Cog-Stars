{
 "cells": [
  {
   "cell_type": "code",
   "execution_count": 1,
   "id": "ba033032-11ef-454f-9f56-904555b84490",
   "metadata": {},
   "outputs": [],
   "source": [
    "from facenet_models import FacenetModel\n",
    "import matplotlib.pyplot as plt\n",
    "import matplotlib.image as mpimg\n",
    "import numpy as np\n",
    "import mygrad\n",
    "import mygrad as mg\n",
    "from ProfileClass import Profile\n",
    "import ProfileDatabase\n",
    "model = FacenetModel()"
   ]
  },
  {
   "cell_type": "code",
   "execution_count": 11,
   "id": "734ec5b9-176e-4931-adcb-2c46eb583d77",
   "metadata": {},
   "outputs": [],
   "source": [
    "def cosine_distance(d1, d2):\n",
    "    unit1 = d1 / np.linalg.norm(d1, keepdims=True)\n",
    "    unit2 = d2 / np.linalg.norm(d2, keepdims=True)\n",
    "    \n",
    "    cosine = np.dot(unit1, unit2)\n",
    "    \n",
    "    cosine_distance = 1 - cosine\n",
    "    \n",
    "    return cosine_distance"
   ]
  },
  {
   "cell_type": "code",
   "execution_count": 21,
   "id": "5a1a14dc-7170-4a76-b52b-c38a6f9cb331",
   "metadata": {},
   "outputs": [],
   "source": [
    "def find_min_distance(d, database, prob_threshold, cosine_threshold, probability):\n",
    "\n",
    "    distances=[]\n",
    "    if (probability>prob_threshold):\n",
    "        \n",
    "        #find the minimum cosine distance\n",
    "        for i in database:\n",
    "            distances.append(cosine_distance(d, i.descriptor))\n",
    "        minimum_distance = min(distances)\n",
    "    \n",
    "        if minimum_distance <= cosine_threshold:\n",
    "            return database[distances.index(minimum_distance)].name\n",
    "        \n",
    "        return \"Person is not found\"\n",
    "        \n",
    "    return \"Probability too low\""
   ]
  },
  {
   "cell_type": "code",
   "execution_count": 2,
   "id": "3acc93a3-5dea-4dbf-9344-d4da3243d522",
   "metadata": {},
   "outputs": [],
   "source": [
    "#collecting all descriptors\n",
    "djokovic_path = \"Training Images/Djokovic Training Set/Djokovic\"\n",
    "djokovic_descriptors = []\n",
    "for i in range(1, 7):\n",
    "    img = mpimg.imread(djokovic_path+str(i)+\".jpg\")\n",
    "    boxes, probabilities, landmarks = model.detect(img)\n",
    "    descriptors = model.compute_descriptors(img, boxes)\n",
    "    djokovic_descriptors.append(descriptors)\n",
    "\n",
    "#computing average descriptor\n",
    "for i in range(len(djokovic_descriptors)-1):\n",
    "    djokovic_summation = np.add(djokovic_descriptors[i][0], djokovic_descriptors[i+1][0])\n",
    "djokovic_average = djokovic_summation / len(djokovic_descriptors)"
   ]
  },
  {
   "cell_type": "code",
   "execution_count": 38,
   "id": "b7fc37f9-a55c-4d4b-9761-fbcc58047568",
   "metadata": {},
   "outputs": [
    {
     "ename": "TypeError",
     "evalue": "'float' object is not iterable",
     "output_type": "error",
     "traceback": [
      "\u001b[1;31m---------------------------------------------------------------------------\u001b[0m",
      "\u001b[1;31mTypeError\u001b[0m                                 Traceback (most recent call last)",
      "Cell \u001b[1;32mIn[38], line 7\u001b[0m\n\u001b[0;32m      5\u001b[0m     img \u001b[38;5;241m=\u001b[39m mpimg\u001b[38;5;241m.\u001b[39mimread(messi_path\u001b[38;5;241m+\u001b[39m\u001b[38;5;28mstr\u001b[39m(i)\u001b[38;5;241m+\u001b[39m\u001b[38;5;124m\"\u001b[39m\u001b[38;5;124m.jpg\u001b[39m\u001b[38;5;124m\"\u001b[39m)\n\u001b[0;32m      6\u001b[0m     boxes, probabilities, landmarks \u001b[38;5;241m=\u001b[39m model\u001b[38;5;241m.\u001b[39mdetect(img)\n\u001b[1;32m----> 7\u001b[0m     descriptors \u001b[38;5;241m=\u001b[39m \u001b[43mmodel\u001b[49m\u001b[38;5;241;43m.\u001b[39;49m\u001b[43mcompute_descriptors\u001b[49m\u001b[43m(\u001b[49m\u001b[43mimg\u001b[49m\u001b[43m,\u001b[49m\u001b[43m \u001b[49m\u001b[43mboxes\u001b[49m\u001b[43m[\u001b[49m\u001b[38;5;241;43m0\u001b[39;49m\u001b[43m]\u001b[49m\u001b[43m)\u001b[49m\n\u001b[0;32m      8\u001b[0m     messi_descriptors\u001b[38;5;241m.\u001b[39mappend(descriptors)\n\u001b[0;32m     10\u001b[0m \u001b[38;5;66;03m#computing average descriptor\u001b[39;00m\n",
      "File \u001b[1;32mc:\\users\\arham\\facenet_models-master\\src\\facenet_models\\__init__.py:75\u001b[0m, in \u001b[0;36mFacenetModel.compute_descriptors\u001b[1;34m(self, image, boxes)\u001b[0m\n\u001b[0;32m     57\u001b[0m \u001b[38;5;28;01mdef\u001b[39;00m \u001b[38;5;21mcompute_descriptors\u001b[39m(\u001b[38;5;28mself\u001b[39m, image: np\u001b[38;5;241m.\u001b[39mndarray, boxes: np\u001b[38;5;241m.\u001b[39mndarray) \u001b[38;5;241m-\u001b[39m\u001b[38;5;241m>\u001b[39m np\u001b[38;5;241m.\u001b[39mndarray:\n\u001b[0;32m     58\u001b[0m \u001b[38;5;250m    \u001b[39m\u001b[38;5;124;03m\"\"\"Compute descriptor vectors for the faces contained in ``boxes``.\u001b[39;00m\n\u001b[0;32m     59\u001b[0m \n\u001b[0;32m     60\u001b[0m \u001b[38;5;124;03m    Parameters\u001b[39;00m\n\u001b[1;32m   (...)\u001b[0m\n\u001b[0;32m     72\u001b[0m \u001b[38;5;124;03m        The descriptor vectors, where N is the number of faces.\u001b[39;00m\n\u001b[0;32m     73\u001b[0m \u001b[38;5;124;03m    \"\"\"\u001b[39;00m\n\u001b[0;32m     74\u001b[0m     crops \u001b[38;5;241m=\u001b[39m np\u001b[38;5;241m.\u001b[39marray(\n\u001b[1;32m---> 75\u001b[0m         [crop_resize(image, [\u001b[38;5;28mint\u001b[39m(\u001b[38;5;28mmax\u001b[39m(\u001b[38;5;241m0\u001b[39m, coord)) \u001b[38;5;28;01mfor\u001b[39;00m coord \u001b[38;5;129;01min\u001b[39;00m box], \u001b[38;5;241m160\u001b[39m)\n\u001b[0;32m     76\u001b[0m         \u001b[38;5;28;01mfor\u001b[39;00m box \u001b[38;5;129;01min\u001b[39;00m boxes], dtype\u001b[38;5;241m=\u001b[39m\u001b[38;5;124m'\u001b[39m\u001b[38;5;124mint32\u001b[39m\u001b[38;5;124m'\u001b[39m\n\u001b[0;32m     77\u001b[0m         )\n\u001b[0;32m     78\u001b[0m     crops \u001b[38;5;241m=\u001b[39m (torch\u001b[38;5;241m.\u001b[39mtensor(crops)\u001b[38;5;241m.\u001b[39mfloat() \u001b[38;5;241m-\u001b[39m \u001b[38;5;241m127.5\u001b[39m) \u001b[38;5;241m/\u001b[39m \u001b[38;5;241m128\u001b[39m\n\u001b[0;32m     79\u001b[0m     \u001b[38;5;28;01mwith\u001b[39;00m torch\u001b[38;5;241m.\u001b[39mno_grad():\n",
      "File \u001b[1;32mc:\\users\\arham\\facenet_models-master\\src\\facenet_models\\__init__.py:75\u001b[0m, in \u001b[0;36m<listcomp>\u001b[1;34m(.0)\u001b[0m\n\u001b[0;32m     57\u001b[0m \u001b[38;5;28;01mdef\u001b[39;00m \u001b[38;5;21mcompute_descriptors\u001b[39m(\u001b[38;5;28mself\u001b[39m, image: np\u001b[38;5;241m.\u001b[39mndarray, boxes: np\u001b[38;5;241m.\u001b[39mndarray) \u001b[38;5;241m-\u001b[39m\u001b[38;5;241m>\u001b[39m np\u001b[38;5;241m.\u001b[39mndarray:\n\u001b[0;32m     58\u001b[0m \u001b[38;5;250m    \u001b[39m\u001b[38;5;124;03m\"\"\"Compute descriptor vectors for the faces contained in ``boxes``.\u001b[39;00m\n\u001b[0;32m     59\u001b[0m \n\u001b[0;32m     60\u001b[0m \u001b[38;5;124;03m    Parameters\u001b[39;00m\n\u001b[1;32m   (...)\u001b[0m\n\u001b[0;32m     72\u001b[0m \u001b[38;5;124;03m        The descriptor vectors, where N is the number of faces.\u001b[39;00m\n\u001b[0;32m     73\u001b[0m \u001b[38;5;124;03m    \"\"\"\u001b[39;00m\n\u001b[0;32m     74\u001b[0m     crops \u001b[38;5;241m=\u001b[39m np\u001b[38;5;241m.\u001b[39marray(\n\u001b[1;32m---> 75\u001b[0m         [crop_resize(image, [\u001b[38;5;28mint\u001b[39m(\u001b[38;5;28mmax\u001b[39m(\u001b[38;5;241m0\u001b[39m, coord)) \u001b[38;5;28;01mfor\u001b[39;00m coord \u001b[38;5;129;01min\u001b[39;00m box], \u001b[38;5;241m160\u001b[39m)\n\u001b[0;32m     76\u001b[0m         \u001b[38;5;28;01mfor\u001b[39;00m box \u001b[38;5;129;01min\u001b[39;00m boxes], dtype\u001b[38;5;241m=\u001b[39m\u001b[38;5;124m'\u001b[39m\u001b[38;5;124mint32\u001b[39m\u001b[38;5;124m'\u001b[39m\n\u001b[0;32m     77\u001b[0m         )\n\u001b[0;32m     78\u001b[0m     crops \u001b[38;5;241m=\u001b[39m (torch\u001b[38;5;241m.\u001b[39mtensor(crops)\u001b[38;5;241m.\u001b[39mfloat() \u001b[38;5;241m-\u001b[39m \u001b[38;5;241m127.5\u001b[39m) \u001b[38;5;241m/\u001b[39m \u001b[38;5;241m128\u001b[39m\n\u001b[0;32m     79\u001b[0m     \u001b[38;5;28;01mwith\u001b[39;00m torch\u001b[38;5;241m.\u001b[39mno_grad():\n",
      "\u001b[1;31mTypeError\u001b[0m: 'float' object is not iterable"
     ]
    }
   ],
   "source": [
    "#collecting all descriptors\n",
    "messi_path = \"Training Images/Messi Training Set/Messi\"\n",
    "messi_descriptors = []\n",
    "for i in range(1, 7):\n",
    "    img = mpimg.imread(messi_path+str(i)+\".jpg\")\n",
    "    boxes, probabilities, landmarks = model.detect(img)\n",
    "    descriptors = model.compute_descriptors(img, boxes[0])\n",
    "    messi_descriptors.append(descriptors)\n",
    "\n",
    "#computing average descriptor\n",
    "for i in range(len(messi_descriptors)-1):\n",
    "    messi_summation = np.add(messi_descriptors[i][0], messi_descriptors[i+1][0])\n",
    "messi_average = messi_summation / len(messi_descriptors)"
   ]
  },
  {
   "cell_type": "code",
   "execution_count": 4,
   "id": "0872d528-5082-423a-b34d-5726613c64da",
   "metadata": {},
   "outputs": [],
   "source": [
    "#collecting all descriptors\n",
    "nayeon_path = \"Training Images/Nayeon Training Set/Nayeon\"\n",
    "nayeon_descriptors = []\n",
    "for i in range(1, 7):\n",
    "    img = mpimg.imread(nayeon_path+str(i)+\".jpg\")\n",
    "    boxes, probabilities, landmarks = model.detect(img)\n",
    "    descriptors = model.compute_descriptors(img, boxes)\n",
    "    nayeon_descriptors.append(descriptors)\n",
    "\n",
    "#computing average descriptor\n",
    "for i in range(len(nayeon_descriptors)-1):\n",
    "    nayeon_summation = np.add(nayeon_descriptors[i][0], nayeon_descriptors[i+1][0])\n",
    "nayeon_average = nayeon_summation / len(nayeon_descriptors)"
   ]
  },
  {
   "cell_type": "code",
   "execution_count": 5,
   "id": "515068ef-2c0c-489d-bb24-30ab80333544",
   "metadata": {},
   "outputs": [],
   "source": [
    "#collecting all descriptors\n",
    "taylor_path = \"Training Images/Taylor Training Set/Taylor\"\n",
    "taylor_descriptors = []\n",
    "for i in range(1, 7):\n",
    "    img = mpimg.imread(taylor_path+str(i)+\".jpg\")\n",
    "    boxes, probabilities, landmarks = model.detect(img)\n",
    "    descriptors = model.compute_descriptors(img, boxes)\n",
    "    taylor_descriptors.append(descriptors)\n",
    "\n",
    "#computing average descriptor\n",
    "for i in range(len(taylor_descriptors)-1):\n",
    "    taylor_summation = np.add(taylor_descriptors[i][0], taylor_descriptors[i+1][0])\n",
    "taylor_average = taylor_summation / len(taylor_descriptors)"
   ]
  },
  {
   "cell_type": "code",
   "execution_count": 6,
   "id": "5ccb7efb-5e78-4e31-b247-c6e16f32e089",
   "metadata": {},
   "outputs": [],
   "source": [
    "#collecting all descriptors\n",
    "zimmer_path = \"Training Images/Zimmer Training Set/Zimmer\"\n",
    "zimmer_descriptors = []\n",
    "for i in range(1, 7):\n",
    "    img = mpimg.imread(zimmer_path+str(i)+\".jpg\")\n",
    "    boxes, probabilities, landmarks = model.detect(img)\n",
    "    descriptors = model.compute_descriptors(img, boxes)\n",
    "    zimmer_descriptors.append(descriptors)\n",
    "\n",
    "#computing average descriptor\n",
    "for i in range(len(zimmer_descriptors)-1):\n",
    "    zimmer_summation = np.add(zimmer_descriptors[i][0], zimmer_descriptors[i+1][0])\n",
    "zimmer_average = zimmer_summation / len(zimmer_descriptors)"
   ]
  },
  {
   "cell_type": "code",
   "execution_count": 9,
   "id": "eed2b872-c5d6-462e-8fb2-0392930c7008",
   "metadata": {},
   "outputs": [],
   "source": [
    "djokovic = Profile(\"Djokovic\", djokovic_average)\n",
    "messi = Profile(\"Messi\", messi_average)\n",
    "nayeon = Profile(\"Nayeon\", nayeon_average)\n",
    "taylor = Profile(\"Taylor\", taylor_average)\n",
    "zimmer = Profile(\"Zimmer\", zimmer_average)\n",
    "\n",
    "Database = [djokovic, messi, nayeon, taylor, zimmer]"
   ]
  },
  {
   "cell_type": "code",
   "execution_count": 37,
   "id": "cf4e20a7-62c8-4ba4-b043-d0af30fd1c6a",
   "metadata": {},
   "outputs": [
    {
     "data": {
      "text/plain": [
       "'Messi'"
      ]
     },
     "execution_count": 37,
     "metadata": {},
     "output_type": "execute_result"
    }
   ],
   "source": [
    "probability_threshold = 0.1\n",
    "cosine_threshold = 0.5\n",
    "user_image = mpimg.imread(\"Training Images/Messi Training Set/Messi6.jpg\")\n",
    "boxes, probability, landmarks = model.detect(user_image)\n",
    "user_descriptor = model.compute_descriptors(user_image, boxes)[0]\n",
    "\n",
    "find_min_distance(user_descriptor, Database, probability_threshold, cosine_threshold, probability[0])\n"
   ]
  },
  {
   "cell_type": "code",
   "execution_count": null,
   "id": "5bd80ff6-e40e-4c67-9f60-4514d15239d0",
   "metadata": {},
   "outputs": [],
   "source": []
  }
 ],
 "metadata": {
  "kernelspec": {
   "display_name": "Python 3 (ipykernel)",
   "language": "python",
   "name": "python3"
  },
  "language_info": {
   "codemirror_mode": {
    "name": "ipython",
    "version": 3
   },
   "file_extension": ".py",
   "mimetype": "text/x-python",
   "name": "python",
   "nbconvert_exporter": "python",
   "pygments_lexer": "ipython3",
   "version": "3.8.19"
  }
 },
 "nbformat": 4,
 "nbformat_minor": 5
}
