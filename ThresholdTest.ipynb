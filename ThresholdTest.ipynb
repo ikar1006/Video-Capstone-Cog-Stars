{
 "cells": [
  {
   "cell_type": "code",
   "execution_count": 6,
   "id": "f23e27a8-7017-4bfe-8f87-aa579bcd5717",
   "metadata": {},
   "outputs": [],
   "source": [
    "from facenet_models import FacenetModel\n",
    "import matplotlib.image as mpimg\n",
    "import numpy as np\n",
    "import mygrad\n",
    "import mygrad as mg\n",
    "model = FacenetModel()"
   ]
  },
  {
   "cell_type": "code",
   "execution_count": 4,
   "id": "d924df02-03a1-4305-97ab-d1773ad0c447",
   "metadata": {},
   "outputs": [
    {
     "ename": "SyntaxError",
     "evalue": "invalid syntax (3338767109.py, line 5)",
     "output_type": "error",
     "traceback": [
      "\u001b[1;36m  Cell \u001b[1;32mIn[4], line 5\u001b[1;36m\u001b[0m\n\u001b[1;33m    ss_know = [:, 0]\u001b[0m\n\u001b[1;37m               ^\u001b[0m\n\u001b[1;31mSyntaxError\u001b[0m\u001b[1;31m:\u001b[0m invalid syntax\n"
     ]
    }
   ],
   "source": [
    "def person_check(know_ppl, rand_ppl):\n",
    "    threshold_dict = {}\n",
    "    #arham's function finds the numbers for my ppls\n",
    "    #assuming i get a dict back w/a name and a number\n",
    "    ss_know = cosine_distance(know_ppl, rand_ppl)\n",
    "    ss_rand = [:, 0]\n",
    "    \n",
    "    real_face_count = 0\n",
    "    wrong_face_count = 0\n",
    "\n",
    "    for threshold in range(0, 2, 0.25):\n",
    "        for num in ss_know:\n",
    "            if num > threshold:\n",
    "                real_face_count += 1\n",
    "        for num in ss_rand:\n",
    "            if num > threshold:\n",
    "                fake_face_count += 1\n",
    "        threshold_dict[num] = (real_face_count, fake_face_count)\n",
    "    return threshold_dict"
   ]
  },
  {
   "cell_type": "code",
   "execution_count": 3,
   "id": "5966479d-2c42-471f-807e-0e5fb3cc8462",
   "metadata": {},
   "outputs": [],
   "source": [
    "def real_check(real_data, fake_data):\n",
    "    boxes1, probabilities1, landmarks1 = model.detect(real_data)\n",
    "    boxes2, probabilities2, landmarks2 = model.detect(fake_data)\n",
    "\n",
    "    confidence_counts = {}\n",
    "\n",
    "    for num in range(1, 101, 10):\n",
    "        real_face_count = 0\n",
    "        fake_face_count = 0\n",
    "\n",
    "    for prob in probabilities1:\n",
    "        if prob > num:\n",
    "            real_face_count += 1\n",
    "    for prob in probabilities2:\n",
    "        if prob > num:\n",
    "            fake_face_count += 1\n",
    "\n",
    "    confidence_counts[num] = (real_face_count, fake_face_count)\n",
    "\n",
    "    return confidence_counts"
   ]
  },
  {
   "cell_type": "code",
   "execution_count": 9,
   "id": "09b19e76-15be-495f-9a85-dd0f2a2a1c4d",
   "metadata": {},
   "outputs": [
    {
     "ename": "TypeError",
     "evalue": "'>' not supported between instances of 'NoneType' and 'int'",
     "output_type": "error",
     "traceback": [
      "\u001b[1;31m---------------------------------------------------------------------------\u001b[0m",
      "\u001b[1;31mTypeError\u001b[0m                                 Traceback (most recent call last)",
      "Cell \u001b[1;32mIn[9], line 9\u001b[0m\n\u001b[0;32m      6\u001b[0m \u001b[38;5;28;01mfor\u001b[39;00m i \u001b[38;5;129;01min\u001b[39;00m \u001b[38;5;28mrange\u001b[39m(\u001b[38;5;241m1\u001b[39m, \u001b[38;5;241m9\u001b[39m):\n\u001b[0;32m      7\u001b[0m     img2 \u001b[38;5;241m=\u001b[39m mpimg\u001b[38;5;241m.\u001b[39mimread(fake_path\u001b[38;5;241m+\u001b[39m\u001b[38;5;28mstr\u001b[39m(i)\u001b[38;5;241m+\u001b[39m\u001b[38;5;124m\"\u001b[39m\u001b[38;5;124m.jpg\u001b[39m\u001b[38;5;124m\"\u001b[39m)\n\u001b[1;32m----> 9\u001b[0m \u001b[38;5;28mprint\u001b[39m(\u001b[43mreal_check\u001b[49m\u001b[43m(\u001b[49m\u001b[43mimg1\u001b[49m\u001b[43m,\u001b[49m\u001b[43m \u001b[49m\u001b[43mimg2\u001b[49m\u001b[43m)\u001b[49m)\n",
      "Cell \u001b[1;32mIn[3], line 15\u001b[0m, in \u001b[0;36mreal_check\u001b[1;34m(real_data, fake_data)\u001b[0m\n\u001b[0;32m     13\u001b[0m         real_face_count \u001b[38;5;241m+\u001b[39m\u001b[38;5;241m=\u001b[39m \u001b[38;5;241m1\u001b[39m\n\u001b[0;32m     14\u001b[0m \u001b[38;5;28;01mfor\u001b[39;00m prob \u001b[38;5;129;01min\u001b[39;00m probabilities2:\n\u001b[1;32m---> 15\u001b[0m     \u001b[38;5;28;01mif\u001b[39;00m \u001b[43mprob\u001b[49m\u001b[43m \u001b[49m\u001b[38;5;241;43m>\u001b[39;49m\u001b[43m \u001b[49m\u001b[43mnum\u001b[49m:\n\u001b[0;32m     16\u001b[0m         fake_face_count \u001b[38;5;241m+\u001b[39m\u001b[38;5;241m=\u001b[39m \u001b[38;5;241m1\u001b[39m\n\u001b[0;32m     18\u001b[0m confidence_counts[num] \u001b[38;5;241m=\u001b[39m (real_face_count, fake_face_count)\n",
      "\u001b[1;31mTypeError\u001b[0m: '>' not supported between instances of 'NoneType' and 'int'"
     ]
    }
   ],
   "source": [
    "rand_path = \"Random Faces/rand\"\n",
    "for i in range(1, 9):\n",
    "    img1 = mpimg.imread(rand_path+str(i)+\".jpg\")\n",
    "\n",
    "fake_path = \"fake faces/fake\"\n",
    "for i in range(1, 9):\n",
    "    img2 = mpimg.imread(fake_path+str(i)+\".jpg\")\n",
    "    \n",
    "print(real_check(img1, img2))"
   ]
  },
  {
   "cell_type": "code",
   "execution_count": null,
   "id": "24b18312-dbfd-4bcd-8498-f36d66b3aade",
   "metadata": {},
   "outputs": [],
   "source": []
  }
 ],
 "metadata": {
  "kernelspec": {
   "display_name": "Python 3 (ipykernel)",
   "language": "python",
   "name": "python3"
  },
  "language_info": {
   "codemirror_mode": {
    "name": "ipython",
    "version": 3
   },
   "file_extension": ".py",
   "mimetype": "text/x-python",
   "name": "python",
   "nbconvert_exporter": "python",
   "pygments_lexer": "ipython3",
   "version": "3.8.19"
  }
 },
 "nbformat": 4,
 "nbformat_minor": 5
}
