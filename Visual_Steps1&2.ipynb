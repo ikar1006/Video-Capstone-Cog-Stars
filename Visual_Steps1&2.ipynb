{
 "cells": [
  {
   "cell_type": "code",
   "execution_count": 1,
   "id": "f76b0858",
   "metadata": {},
   "outputs": [],
   "source": [
    "import numpy as np\n",
    "import pickle"
   ]
  },
  {
   "cell_type": "code",
   "execution_count": 2,
   "id": "6ec5fb4c",
   "metadata": {},
   "outputs": [],
   "source": [
    "class Profile:\n",
    "    def __init__(self, name):\n",
    "        self.name = name\n",
    "        self.descriptors = []\n",
    "    \n",
    "    def add_descriptor(self, descriptor):\n",
    "        self.descriptors.append(descriptor)\n",
    "    \n",
    "    def average_descriptor(self):\n",
    "        if self.descriptors:\n",
    "            return np.mean(self.descriptors, axis=0)\n",
    "        else:\n",
    "            return None"
   ]
  },
  {
   "cell_type": "code",
   "execution_count": 3,
   "id": "193f2c55",
   "metadata": {},
   "outputs": [],
   "source": [
    "class ProfileDatabase:\n",
    "    def __init__(self, db_path):\n",
    "        self.db_path = db_path\n",
    "        self.profiles = {}\n",
    "    \n",
    "    def load(self):\n",
    "        try:\n",
    "            with open(self.db_path, 'rb') as f:\n",
    "                self.profiles = pickle.load(f)\n",
    "        except FileNotFoundError:\n",
    "            self.profiles = {}\n",
    "    \n",
    "    def save(self):\n",
    "        with open(self.db_path, 'wb') as f:\n",
    "            pickle.dump(self.profiles, f)\n",
    "    \n",
    "    def add_profile(self, name):\n",
    "        if name not in self.profiles:\n",
    "            self.profiles[name] = Profile(name)\n",
    "    \n",
    "    def remove_profile(self, name):\n",
    "        if name in self.profiles:\n",
    "            del self.profiles[name]\n",
    "    \n",
    "    def add_image(self, name, descriptor):\n",
    "        if name not in self.profiles:\n",
    "            self.add_profile(name)\n",
    "        self.profiles[name].add_descriptor(descriptor)\n",
    "        self.save()\n",
    "    \n",
    "    def get_profile(self, name):\n",
    "        return self.profiles.get(name, None)\n"
   ]
  },
  {
   "cell_type": "code",
   "execution_count": null,
   "id": "c77885ed",
   "metadata": {},
   "outputs": [],
   "source": []
  }
 ],
 "metadata": {
  "kernelspec": {
   "display_name": "Python 3 (ipykernel)",
   "language": "python",
   "name": "python3"
  },
  "language_info": {
   "codemirror_mode": {
    "name": "ipython",
    "version": 3
   },
   "file_extension": ".py",
   "mimetype": "text/x-python",
   "name": "python",
   "nbconvert_exporter": "python",
   "pygments_lexer": "ipython3",
   "version": "3.8.19"
  }
 },
 "nbformat": 4,
 "nbformat_minor": 5
}
