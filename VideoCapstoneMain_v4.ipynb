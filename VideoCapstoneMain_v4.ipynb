{
 "cells": [
  {
   "cell_type": "code",
   "execution_count": 1,
   "id": "ba033032-11ef-454f-9f56-904555b84490",
   "metadata": {},
   "outputs": [],
   "source": [
    "from facenet_models import FacenetModel\n",
    "import matplotlib.pyplot as plt\n",
    "import matplotlib.image as mpimg\n",
    "import numpy as np\n",
    "import mygrad\n",
    "import mygrad as mg\n",
    "from ProfileClass import Profile\n",
    "import ProfileDatabase\n",
    "model = FacenetModel()"
   ]
  },
  {
   "cell_type": "code",
   "execution_count": 2,
   "id": "734ec5b9-176e-4931-adcb-2c46eb583d77",
   "metadata": {},
   "outputs": [],
   "source": [
    "def cosine_distance(d1, d2):\n",
    "    unit1 = d1 / np.linalg.norm(d1, keepdims=True)\n",
    "    unit2 = d2 / np.linalg.norm(d2, keepdims=True)\n",
    "    \n",
    "    cosine = np.dot(unit1, unit2)\n",
    "    \n",
    "    cosine_distance = 1 - cosine\n",
    "    \n",
    "    return cosine_distance"
   ]
  },
  {
   "cell_type": "code",
   "execution_count": 3,
   "id": "5a1a14dc-7170-4a76-b52b-c38a6f9cb331",
   "metadata": {},
   "outputs": [],
   "source": [
    "def find_min_distance(d, database, prob_threshold, cosine_threshold, probability):\n",
    "\n",
    "    distances=[]\n",
    "    if (probability>prob_threshold):\n",
    "        \n",
    "        #find the minimum cosine distance\n",
    "        for i in database:\n",
    "            distances.append(cosine_distance(d, i.descriptor))\n",
    "        minimum_distance = min(distances)\n",
    "    \n",
    "        if minimum_distance <= cosine_threshold:\n",
    "            return database[distances.index(minimum_distance)].name\n",
    "        \n",
    "        return \"Person is not found\"\n",
    "        \n",
    "    return \"Probability too low\""
   ]
  },
  {
   "cell_type": "code",
   "execution_count": 4,
   "id": "3acc93a3-5dea-4dbf-9344-d4da3243d522",
   "metadata": {},
   "outputs": [],
   "source": [
    "#collecting all descriptors\n",
    "djokovic_path = \"Training Images/Djokovic Training Set/Djokovic\"\n",
    "djokovic_descriptors = []\n",
    "for i in range(1, 7):\n",
    "    img = mpimg.imread(djokovic_path+str(i)+\".jpg\")\n",
    "    boxes, probabilities, landmarks = model.detect(img)\n",
    "    descriptors = model.compute_descriptors(img, boxes)\n",
    "    djokovic_descriptors.append(descriptors)\n",
    "\n",
    "#computing average descriptor\n",
    "for i in range(len(djokovic_descriptors)-1):\n",
    "    djokovic_summation = np.add(djokovic_descriptors[i][0], djokovic_descriptors[i+1][0])\n",
    "djokovic_average = djokovic_summation / len(djokovic_descriptors)"
   ]
  },
  {
   "cell_type": "code",
   "execution_count": 5,
   "id": "b7fc37f9-a55c-4d4b-9761-fbcc58047568",
   "metadata": {},
   "outputs": [],
   "source": [
    "#collecting all descriptors\n",
    "messi_path = \"Training Images/Messi Training Set/Messi\"\n",
    "messi_descriptors = []\n",
    "for i in range(1, 7):\n",
    "    img = mpimg.imread(messi_path+str(i)+\".jpg\")\n",
    "    boxes, probabilities, landmarks = model.detect(img)\n",
    "    descriptors = model.compute_descriptors(img, boxes)\n",
    "    messi_descriptors.append(descriptors)\n",
    "\n",
    "#computing average descriptor\n",
    "for i in range(len(messi_descriptors)-1):\n",
    "    messi_summation = np.add(messi_descriptors[i][0], messi_descriptors[i+1][0])\n",
    "messi_average = messi_summation / len(messi_descriptors)"
   ]
  },
  {
   "cell_type": "code",
   "execution_count": 6,
   "id": "0872d528-5082-423a-b34d-5726613c64da",
   "metadata": {},
   "outputs": [],
   "source": [
    "#collecting all descriptors\n",
    "nayeon_path = \"Training Images/Nayeon Training Set/Nayeon\"\n",
    "nayeon_descriptors = []\n",
    "for i in range(1, 7):\n",
    "    img = mpimg.imread(nayeon_path+str(i)+\".jpg\")\n",
    "    boxes, probabilities, landmarks = model.detect(img)\n",
    "    descriptors = model.compute_descriptors(img, boxes)\n",
    "    nayeon_descriptors.append(descriptors)\n",
    "\n",
    "#computing average descriptor\n",
    "for i in range(len(nayeon_descriptors)-1):\n",
    "    nayeon_summation = np.add(nayeon_descriptors[i][0], nayeon_descriptors[i+1][0])\n",
    "nayeon_average = nayeon_summation / len(nayeon_descriptors)"
   ]
  },
  {
   "cell_type": "code",
   "execution_count": 7,
   "id": "515068ef-2c0c-489d-bb24-30ab80333544",
   "metadata": {},
   "outputs": [],
   "source": [
    "#collecting all descriptors\n",
    "taylor_path = \"Training Images/Taylor Training Set/Taylor\"\n",
    "taylor_descriptors = []\n",
    "for i in range(1, 7):\n",
    "    img = mpimg.imread(taylor_path+str(i)+\".jpg\")\n",
    "    boxes, probabilities, landmarks = model.detect(img)\n",
    "    descriptors = model.compute_descriptors(img, boxes)\n",
    "    taylor_descriptors.append(descriptors)\n",
    "\n",
    "#computing average descriptor\n",
    "for i in range(len(taylor_descriptors)-1):\n",
    "    taylor_summation = np.add(taylor_descriptors[i][0], taylor_descriptors[i+1][0])\n",
    "taylor_average = taylor_summation / len(taylor_descriptors)"
   ]
  },
  {
   "cell_type": "code",
   "execution_count": 8,
   "id": "5ccb7efb-5e78-4e31-b247-c6e16f32e089",
   "metadata": {},
   "outputs": [],
   "source": [
    "#collecting all descriptors\n",
    "zimmer_path = \"Training Images/Zimmer Training Set/Zimmer\"\n",
    "zimmer_descriptors = []\n",
    "for i in range(1, 7):\n",
    "    img = mpimg.imread(zimmer_path+str(i)+\".jpg\")\n",
    "    boxes, probabilities, landmarks = model.detect(img)\n",
    "    descriptors = model.compute_descriptors(img, boxes)\n",
    "    zimmer_descriptors.append(descriptors)\n",
    "\n",
    "#computing average descriptor\n",
    "for i in range(len(zimmer_descriptors)-1):\n",
    "    zimmer_summation = np.add(zimmer_descriptors[i][0], zimmer_descriptors[i+1][0])\n",
    "zimmer_average = zimmer_summation / len(zimmer_descriptors)"
   ]
  },
  {
   "cell_type": "code",
   "execution_count": 9,
   "id": "eed2b872-c5d6-462e-8fb2-0392930c7008",
   "metadata": {},
   "outputs": [],
   "source": [
    "djokovic = Profile(\"Djokovic\", djokovic_average)\n",
    "messi = Profile(\"Messi\", messi_average)\n",
    "nayeon = Profile(\"Nayeon\", nayeon_average)\n",
    "taylor = Profile(\"Taylor\", taylor_average)\n",
    "zimmer = Profile(\"Zimmer\", zimmer_average)\n",
    "\n",
    "Database = [djokovic, messi, nayeon, taylor, zimmer]"
   ]
  },
  {
   "cell_type": "code",
   "execution_count": 11,
   "id": "5bd80ff6-e40e-4c67-9f60-4514d15239d0",
   "metadata": {},
   "outputs": [],
   "source": [
    "probability_threshold = 0.1\n",
    "cosine_threshold = 0.5\n",
    "\n",
    "messi_test = mpimg.imread(\"Test Image Set/Messi Test Image/Messi Test Image.jpg\")\n",
    "boxes, probability, landmarks = model.detect(messi_test)\n",
    "user_descriptor = model.compute_descriptors(messi_test, boxes)[0]\n",
    "\n",
    "predicted_name = find_min_distance(user_descriptor, Database, probability_threshold,\n",
    "                                   cosine_threshold, probability[0])\n",
    "\n",
    "if (predicted_name==\"Djokovic\"):\n",
    "    Database[0].add_descriptor(user_descriptor)\n",
    "elif (predicted_name==\"Messi\"):\n",
    "    Database[1].add_descriptor(user_descriptor)\n",
    "elif (predicted_name==\"Nayeon\"):\n",
    "    Database[2].add_descriptor(user_descriptor)\n",
    "elif (predicted_name==\"Taylor\"):\n",
    "    Database[3].add_descriptor(user_descriptor)\n",
    "elif (predicted_name==\"Zimmer\"):\n",
    "    Database[4].add_descriptor(user_descriptor)"
   ]
  },
  {
   "cell_type": "code",
   "execution_count": null,
   "id": "2ad10e8c-e34c-4e38-a3e3-6df3a9944818",
   "metadata": {},
   "outputs": [],
   "source": [
    "from typing import List, Optional, Tuple\n",
    "\n",
    "import matplotlib.pyplot as plt\n",
    "import numpy as np\n",
    "import skimage.io as io\n",
    "from facenet_models import FacenetModel\n",
    "from matplotlib.patches import Rectangle\n",
    "\n",
    "def recognition_boxes(image):\n",
    "    model = FacenetModel()\n",
    "    fig, ax = plt.subplots()\n",
    "    if not isinstance(image, np.ndarray):\n",
    "        image = io.imread(str(image))\n",
    "        if image.shape[-1] == 4:\n",
    "            image = image[..., :-1] \n",
    "    ax.imshow(image)\n",
    "    boxes, probs, random = model.detect()\n",
    "    for box in boxes:\n",
    "        ax.add_patch(Rectangle(box[:2], *box[2:] - box[:2]), fill = None, lw = 2, color = \"red\"))"
   ]
  }
 ],
 "metadata": {
  "kernelspec": {
   "display_name": "Python 3 (ipykernel)",
   "language": "python",
   "name": "python3"
  },
  "language_info": {
   "codemirror_mode": {
    "name": "ipython",
    "version": 3
   },
   "file_extension": ".py",
   "mimetype": "text/x-python",
   "name": "python",
   "nbconvert_exporter": "python",
   "pygments_lexer": "ipython3",
   "version": "3.8.19"
  }
 },
 "nbformat": 4,
 "nbformat_minor": 5
}
