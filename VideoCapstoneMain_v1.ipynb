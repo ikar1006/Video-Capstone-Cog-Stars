{
 "cells": [
  {
   "cell_type": "code",
   "execution_count": 6,
   "id": "ba033032-11ef-454f-9f56-904555b84490",
   "metadata": {},
   "outputs": [],
   "source": [
    "from facenet_models import FacenetModel\n",
    "import matplotlib.pyplot as plt\n",
    "import matplotlib.image as mpimg\n",
    "import numpy as np\n",
    "import mygrad\n",
    "import mygrad as mg\n",
    "import Profile\n",
    "import ProfileDatabase\n",
    "model = FacenetModel()"
   ]
  },
  {
   "cell_type": "code",
   "execution_count": 11,
   "id": "3acc93a3-5dea-4dbf-9344-d4da3243d522",
   "metadata": {},
   "outputs": [],
   "source": [
    "#collecting all descriptors\n",
    "djokovic_path = \"Training Images/Djokovic Training Set/Djokovic\"\n",
    "djokovic_descriptors = []\n",
    "for i in range(1, 7):\n",
    "    img = mpimg.imread(djokovic_path+str(i)+\".jpg\")\n",
    "    boxes, probabilities, landmarks = model.detect(img)\n",
    "    descriptors = model.compute_descriptors(img, boxes)\n",
    "    djokovic_descriptors.append(descriptors)\n",
    "\n",
    "#computing average descriptor\n",
    "for i in range(len(djokovic_descriptors)-1):\n",
    "    djokovic_summation = np.add(djokovic_descriptors[i][0], djokovic_descriptors[i+1][0])\n",
    "djokovic_average = djokovic_summation / len(djokovic_descriptors)"
   ]
  },
  {
   "cell_type": "code",
   "execution_count": 12,
   "id": "b7fc37f9-a55c-4d4b-9761-fbcc58047568",
   "metadata": {},
   "outputs": [
    {
     "ename": "FileNotFoundError",
     "evalue": "[Errno 2] No such file or directory: 'Training Images/Messi Training Set/Messi3.jpg'",
     "output_type": "error",
     "traceback": [
      "\u001b[1;31m---------------------------------------------------------------------------\u001b[0m",
      "\u001b[1;31mFileNotFoundError\u001b[0m                         Traceback (most recent call last)",
      "Cell \u001b[1;32mIn[12], line 5\u001b[0m\n\u001b[0;32m      3\u001b[0m messi_descriptors \u001b[38;5;241m=\u001b[39m []\n\u001b[0;32m      4\u001b[0m \u001b[38;5;28;01mfor\u001b[39;00m i \u001b[38;5;129;01min\u001b[39;00m \u001b[38;5;28mrange\u001b[39m(\u001b[38;5;241m1\u001b[39m, \u001b[38;5;241m7\u001b[39m):\n\u001b[1;32m----> 5\u001b[0m     img \u001b[38;5;241m=\u001b[39m \u001b[43mmpimg\u001b[49m\u001b[38;5;241;43m.\u001b[39;49m\u001b[43mimread\u001b[49m\u001b[43m(\u001b[49m\u001b[43mmessi_path\u001b[49m\u001b[38;5;241;43m+\u001b[39;49m\u001b[38;5;28;43mstr\u001b[39;49m\u001b[43m(\u001b[49m\u001b[43mi\u001b[49m\u001b[43m)\u001b[49m\u001b[38;5;241;43m+\u001b[39;49m\u001b[38;5;124;43m\"\u001b[39;49m\u001b[38;5;124;43m.jpg\u001b[39;49m\u001b[38;5;124;43m\"\u001b[39;49m\u001b[43m)\u001b[49m\n\u001b[0;32m      6\u001b[0m     boxes, probabilities, landmarks \u001b[38;5;241m=\u001b[39m model\u001b[38;5;241m.\u001b[39mdetect(img)\n\u001b[0;32m      7\u001b[0m     descriptors \u001b[38;5;241m=\u001b[39m model\u001b[38;5;241m.\u001b[39mcompute_descriptors(img, boxes)\n",
      "File \u001b[1;32m~\\anaconda3\\envs\\week2\\lib\\site-packages\\matplotlib\\image.py:1563\u001b[0m, in \u001b[0;36mimread\u001b[1;34m(fname, format)\u001b[0m\n\u001b[0;32m   1556\u001b[0m \u001b[38;5;28;01mif\u001b[39;00m \u001b[38;5;28misinstance\u001b[39m(fname, \u001b[38;5;28mstr\u001b[39m) \u001b[38;5;129;01mand\u001b[39;00m \u001b[38;5;28mlen\u001b[39m(parse\u001b[38;5;241m.\u001b[39murlparse(fname)\u001b[38;5;241m.\u001b[39mscheme) \u001b[38;5;241m>\u001b[39m \u001b[38;5;241m1\u001b[39m:\n\u001b[0;32m   1557\u001b[0m     \u001b[38;5;66;03m# Pillow doesn't handle URLs directly.\u001b[39;00m\n\u001b[0;32m   1558\u001b[0m     \u001b[38;5;28;01mraise\u001b[39;00m \u001b[38;5;167;01mValueError\u001b[39;00m(\n\u001b[0;32m   1559\u001b[0m         \u001b[38;5;124m\"\u001b[39m\u001b[38;5;124mPlease open the URL for reading and pass the \u001b[39m\u001b[38;5;124m\"\u001b[39m\n\u001b[0;32m   1560\u001b[0m         \u001b[38;5;124m\"\u001b[39m\u001b[38;5;124mresult to Pillow, e.g. with \u001b[39m\u001b[38;5;124m\"\u001b[39m\n\u001b[0;32m   1561\u001b[0m         \u001b[38;5;124m\"\u001b[39m\u001b[38;5;124m``np.array(PIL.Image.open(urllib.request.urlopen(url)))``.\u001b[39m\u001b[38;5;124m\"\u001b[39m\n\u001b[0;32m   1562\u001b[0m         )\n\u001b[1;32m-> 1563\u001b[0m \u001b[38;5;28;01mwith\u001b[39;00m \u001b[43mimg_open\u001b[49m\u001b[43m(\u001b[49m\u001b[43mfname\u001b[49m\u001b[43m)\u001b[49m \u001b[38;5;28;01mas\u001b[39;00m image:\n\u001b[0;32m   1564\u001b[0m     \u001b[38;5;28;01mreturn\u001b[39;00m (_pil_png_to_float_array(image)\n\u001b[0;32m   1565\u001b[0m             \u001b[38;5;28;01mif\u001b[39;00m \u001b[38;5;28misinstance\u001b[39m(image, PIL\u001b[38;5;241m.\u001b[39mPngImagePlugin\u001b[38;5;241m.\u001b[39mPngImageFile) \u001b[38;5;28;01melse\u001b[39;00m\n\u001b[0;32m   1566\u001b[0m             pil_to_array(image))\n",
      "File \u001b[1;32m~\\anaconda3\\envs\\week2\\lib\\site-packages\\PIL\\Image.py:3247\u001b[0m, in \u001b[0;36mopen\u001b[1;34m(fp, mode, formats)\u001b[0m\n\u001b[0;32m   3244\u001b[0m     filename \u001b[38;5;241m=\u001b[39m fp\n\u001b[0;32m   3246\u001b[0m \u001b[38;5;28;01mif\u001b[39;00m filename:\n\u001b[1;32m-> 3247\u001b[0m     fp \u001b[38;5;241m=\u001b[39m \u001b[43mbuiltins\u001b[49m\u001b[38;5;241;43m.\u001b[39;49m\u001b[43mopen\u001b[49m\u001b[43m(\u001b[49m\u001b[43mfilename\u001b[49m\u001b[43m,\u001b[49m\u001b[43m \u001b[49m\u001b[38;5;124;43m\"\u001b[39;49m\u001b[38;5;124;43mrb\u001b[39;49m\u001b[38;5;124;43m\"\u001b[39;49m\u001b[43m)\u001b[49m\n\u001b[0;32m   3248\u001b[0m     exclusive_fp \u001b[38;5;241m=\u001b[39m \u001b[38;5;28;01mTrue\u001b[39;00m\n\u001b[0;32m   3250\u001b[0m \u001b[38;5;28;01mtry\u001b[39;00m:\n",
      "\u001b[1;31mFileNotFoundError\u001b[0m: [Errno 2] No such file or directory: 'Training Images/Messi Training Set/Messi3.jpg'"
     ]
    }
   ],
   "source": [
    "#collecting all descriptors\n",
    "messi_path = \"Training Images/Messi Training Set/Messi\"\n",
    "messi_descriptors = []\n",
    "for i in range(1, 7):\n",
    "    img = mpimg.imread(messi_path+str(i)+\".jpg\")\n",
    "    boxes, probabilities, landmarks = model.detect(img)\n",
    "    descriptors = model.compute_descriptors(img, boxes)\n",
    "    messi_descriptors.append(descriptors)\n",
    "\n",
    "#computing average descriptor\n",
    "for i in range(len(messi_descriptors)-1):\n",
    "    messi_summation = np.add(messi_descriptors[i][0], messi_descriptors[i+1][0])\n",
    "messi_average = messi_summation / len(messi_descriptors)"
   ]
  },
  {
   "cell_type": "code",
   "execution_count": null,
   "id": "0872d528-5082-423a-b34d-5726613c64da",
   "metadata": {},
   "outputs": [],
   "source": [
    "#collecting all descriptors\n",
    "nayeon_path = \"Training Images/Nayeon Training Set/Nayeon\"\n",
    "nayeon_descriptors = []\n",
    "for i in range(1, 7):\n",
    "    img = mpimg.imread(nayeon_path+str(i)+\".jpg\")\n",
    "    boxes, probabilities, landmarks = model.detect(img)\n",
    "    descriptors = model.compute_descriptors(img, boxes)\n",
    "    nayeon_descriptors.append(descriptors)\n",
    "\n",
    "#computing average descriptor\n",
    "for i in range(len(nayeon_descriptors)-1):\n",
    "    nayeon_summation = np.add(nayeon_descriptors[i][0], nayeon_descriptors[i+1][0])\n",
    "nayeon_average = nayeon_summation / len(nayeon_descriptors)"
   ]
  },
  {
   "cell_type": "code",
   "execution_count": null,
   "id": "515068ef-2c0c-489d-bb24-30ab80333544",
   "metadata": {},
   "outputs": [],
   "source": [
    "#collecting all descriptors\n",
    "taylor_path = \"Training Images/Taylor Training Set/Taylor\"\n",
    "taylor_descriptors = []\n",
    "for i in range(1, 7):\n",
    "    img = mpimg.imread(taylor_path+str(i)+\".jpg\")\n",
    "    boxes, probabilities, landmarks = model.detect(img)\n",
    "    descriptors = model.compute_descriptors(img, boxes)\n",
    "    taylor_descriptors.append(descriptors)\n",
    "\n",
    "#computing average descriptor\n",
    "for i in range(len(taylor_descriptors)-1):\n",
    "    taylor_summation = np.add(taylor_descriptors[i][0], taylor_descriptors[i+1][0])\n",
    "taylor_average = taylor_summation / len(taylor_descriptors)"
   ]
  },
  {
   "cell_type": "code",
   "execution_count": null,
   "id": "5ccb7efb-5e78-4e31-b247-c6e16f32e089",
   "metadata": {},
   "outputs": [],
   "source": [
    "#collecting all descriptors\n",
    "zimmer_path = \"Training Images/Zimmer Training Set/Zimmer\"\n",
    "zimmer_descriptors = []\n",
    "for i in range(1, 7):\n",
    "    img = mpimg.imread(zimmer_path+str(i)+\".jpg\")\n",
    "    boxes, probabilities, landmarks = model.detect(img)\n",
    "    descriptors = model.compute_descriptors(img, boxes)\n",
    "    zimmer_descriptors.append(descriptors)\n",
    "\n",
    "#computing average descriptor\n",
    "for i in range(len(zimmer_descriptors)-1):\n",
    "    zimmer_summation = np.add(zimmer_descriptors[i][0], zimmer_descriptors[i+1][0])\n",
    "zimmer_average = zimmer_summation / len(zimmer_descriptors)"
   ]
  }
 ],
 "metadata": {
  "kernelspec": {
   "display_name": "Python 3 (ipykernel)",
   "language": "python",
   "name": "python3"
  },
  "language_info": {
   "codemirror_mode": {
    "name": "ipython",
    "version": 3
   },
   "file_extension": ".py",
   "mimetype": "text/x-python",
   "name": "python",
   "nbconvert_exporter": "python",
   "pygments_lexer": "ipython3",
   "version": "3.8.19"
  }
 },
 "nbformat": 4,
 "nbformat_minor": 5
}
